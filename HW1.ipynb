{
  "nbformat": 4,
  "nbformat_minor": 0,
  "metadata": {
    "colab": {
      "provenance": [],
      "include_colab_link": true
    },
    "kernelspec": {
      "name": "python3",
      "display_name": "Python 3"
    },
    "language_info": {
      "name": "python"
    }
  },
  "cells": [
    {
      "cell_type": "markdown",
      "metadata": {
        "id": "view-in-github",
        "colab_type": "text"
      },
      "source": [
        "<a href=\"https://colab.research.google.com/github/hliu-3/stat494/blob/main/HW1.ipynb\" target=\"_parent\"><img src=\"https://colab.research.google.com/assets/colab-badge.svg\" alt=\"Open In Colab\"/></a>"
      ]
    },
    {
      "cell_type": "code",
      "source": [
        "import numpy as np\n",
        "import scipy.stats as scst\n",
        "import matplotlib.pyplot as plt\n",
        "import random\n"
      ],
      "metadata": {
        "id": "VNQkxV3RB0wL"
      },
      "execution_count": 2,
      "outputs": []
    },
    {
      "cell_type": "code",
      "source": [
        "def initialize(M, N):\n",
        "    x = np.zeros(N)\n",
        "    for i in range(0, N):\n",
        "        x[i] = round(i * (M / N))\n",
        "    v = np.zeros(N)\n",
        "    d = np.zeros(N)\n",
        "    for i in range(0, N):\n",
        "        if (i + 1) >= x.size:\n",
        "            d[i] = abs(x[0] + (M - x[i]))\n",
        "        else:\n",
        "            d[i] = abs(x[i + 1] - x[i])\n",
        "    return x, v, d\n",
        "\n",
        "def NS_update(M, x, v, d, p, vmax, mode=1):\n",
        "# The mode==1 scenario is the original setting\n",
        "  if (mode==1):\n",
        "    prob1 = scst.bernoulli.rvs(p, size=1)\n",
        "    v = min(vmax, (v + 1))\n",
        "    v = min((d - 1), v)\n",
        "    if prob1[0] == 1:\n",
        "        v = max(0, (v - 1))\n",
        "    v = max(0,v)\n",
        "    # Problem 1(c)\n",
        "    x = (x + v) % M\n",
        "    return x, v\n",
        "  elif (mode==2):\n",
        "# The mode==2 scenario lets a car slow down only if it will collide. \n",
        "    prob1 = scst.bernoulli.rvs(p, size=1)\n",
        "    v = min(vmax, (v + 1))\n",
        "    v = min((d - 1), v)\n",
        "    if prob1[0] == 1:\n",
        "        v = max(0, (v - 1))\n",
        "    v = max(0,v)\n",
        "    # Problem 1(c)\n",
        "    x = (x + v) % M\n",
        "    return x, v\n",
        "  elif (mode==3):\n",
        "# The mode==3 scenario is when we want to slow down before adjusting for distance. \n",
        "    prob1 = scst.bernoulli.rvs(p, size=1)\n",
        "    v = min(vmax, (v + 1))\n",
        "    if prob1[0] == 1:\n",
        "        v = max(0, (v - 1))\n",
        "    v = min((d - 1), v)\n",
        "    v = max(0,v)\n",
        "    # Problem 1(c)\n",
        "    x = (x + v) % M\n",
        "    return x, v\n",
        "    \n",
        "\n",
        "def Nagel_Schreckenberg(x, v, d, p, M, N, vmax=35):\n",
        "    for i in range(0, N):\n",
        "        (x[i], v[i]) = NS_update(M, x[i], v[i], d[i], p, vmax,1)\n",
        "    for i in range(0, N):\n",
        "        j = i + 1\n",
        "        if j >= x.size:\n",
        "            j = 0\n",
        "        if abs(x[j] - x[i]) > 500:\n",
        "            d[i] = abs(x[j] + (M - x[i]))\n",
        "        else:\n",
        "            d[i] = abs(x[j] - x[i])\n",
        "    return x, v, d\n",
        "\n",
        "def simulate(p=0, M=1000, N=50):\n",
        "    x, v, d = initialize(M, N)\n",
        "    for i in range(0, 2500):\n",
        "        x, v, d = Nagel_Schreckenberg(x, v, d, p, M, N)\n",
        "    graph = np.zeros((M, M))\n",
        "    for i in range(1000):\n",
        "        x, v, d = Nagel_Schreckenberg(x, v, d, p, M, N)\n",
        "        for j in range(N):\n",
        "            graph[i, round(x[j])] = 1\n",
        "    plt.matshow(graph)\n",
        "    plt.show()\n",
        "if __name__ == '__main__':\n",
        "  simulate()"
      ],
      "metadata": {
        "colab": {
          "base_uri": "https://localhost:8080/",
          "height": 275
        },
        "id": "jlS84ZJyGKTJ",
        "outputId": "09484cec-ecf2-4798-fbc5-a10a419c0547"
      },
      "execution_count": 4,
      "outputs": [
        {
          "output_type": "display_data",
          "data": {
            "text/plain": [
              "<Figure size 288x288 with 1 Axes>"
            ],
            "image/png": "[encoded data removed]"
          },
          "metadata": {
            "needs_background": "light"
          }
        }
      ]
    },
    {
      "cell_type": "markdown",
      "source": [
        "Cutie Pie:\n",
        "\n",
        "\n",
        "\n",
        "In Monte Carlo simulations, random numbers are used to generate samples to estimate an integral or to simulate a system. In traditional pseudorandom number generators, the random numbers are generated independently and uniformly distributed. However, equidistributed sequences generate random numbers in a way that ensures they are uniformly distributed and have better dispersion over the entire sequence. One example of equidistributed sequences is\n",
        "\n",
        "$$a,2a,3a,\\cdots \\mod 1$$\n",
        "\n",
        " when $a$ is an irrational number. In the following example, the equidistributed sequence gets one more correct digit than the original sequence. "
      ],
      "metadata": {
        "id": "PXzZQSmT7YXz"
      }
    },
    {
      "cell_type": "code",
      "source": [
        "import random\n",
        "\n",
        "a = np.sqrt(5)\n",
        "b = np.sqrt(7)\n",
        "\n",
        "mode = 0\n",
        "\n",
        "def monte_carlo_pi(n):\n",
        "    inside = 0\n",
        "    for i in range(n):\n",
        "        x = i*a % 1\n",
        "        y = i*b % 1\n",
        "        if x**2 + y**2 <= 1:\n",
        "            inside += 1\n",
        "    return 4 * inside / n\n",
        "\n",
        "n = 1000000\n",
        "pi = monte_carlo_pi(n)\n",
        "print(\"Estimated value of pi after {} iterations by equidistributed sequence: {}\".format(n, pi))"
      ],
      "metadata": {
        "colab": {
          "base_uri": "https://localhost:8080/"
        },
        "id": "4Nci0GhgVrXH",
        "outputId": "76e5f742-fc53-4223-8ece-71dbe215749a"
      },
      "execution_count": null,
      "outputs": [
        {
          "output_type": "stream",
          "name": "stdout",
          "text": [
            "Estimated value of pi after 1000000 iterations: 3.141416\n"
          ]
        }
      ]
    },
    {
      "cell_type": "code",
      "source": [
        "import random\n",
        "\n",
        "a = np.sqrt(5)\n",
        "b = np.sqrt(7)\n",
        "\n",
        "mode = 0\n",
        "\n",
        "def monte_carlo_pi(n):\n",
        "    inside = 0\n",
        "    for i in range(n):\n",
        "        x = random.random()\n",
        "        y = random.random()\n",
        "        if x**2 + y**2 <= 1:\n",
        "            inside += 1\n",
        "    return 4 * inside / n\n",
        "\n",
        "n = 1000000\n",
        "pi = monte_carlo_pi(n)\n",
        "print(\"Estimated value of pi after {} iterations by equidistributed sequence: {}\".format(n, pi))"
      ],
      "metadata": {
        "colab": {
          "base_uri": "https://localhost:8080/"
        },
        "id": "hQhlOKLrCB_f",
        "outputId": "b92d3b4f-134f-4ecb-ad6a-a7896e6e1581"
      },
      "execution_count": null,
      "outputs": [
        {
          "output_type": "stream",
          "name": "stdout",
          "text": [
            "Estimated value of pi after 1000000 iterations by equidistributed sequence: 3.144216\n"
          ]
        }
      ]
    }
  ]
}