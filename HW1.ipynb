{
  "nbformat": 4,
  "nbformat_minor": 0,
  "metadata": {
    "colab": {
      "provenance": [],
      "include_colab_link": true
    },
    "kernelspec": {
      "name": "python3",
      "display_name": "Python 3"
    },
    "language_info": {
      "name": "python"
    }
  },
  "cells": [
    {
      "cell_type": "markdown",
      "metadata": {
        "id": "view-in-github",
        "colab_type": "text"
      },
      "source": [
        "<a href=\"https://colab.research.google.com/github/hliu-3/stat494/blob/main/HW1.ipynb\" target=\"_parent\"><img src=\"https://colab.research.google.com/assets/colab-badge.svg\" alt=\"Open In Colab\"/></a>"
      ]
    },
    {
      "cell_type": "markdown",
      "source": [
        "# Nagel-Schreckenberg traffic modeling"
      ],
      "metadata": {
        "id": "vY4y002qxc28"
      }
    },
    {
      "cell_type": "markdown",
      "source": [
        "## （a). - (c)."
      ],
      "metadata": {
        "id": "1Yf-JsYF3pX9"
      }
    },
    {
      "cell_type": "code",
      "source": [
        "\n",
        "\n",
        "\n",
        "import numpy as np\n",
        "import scipy.stats as scst\n",
        "import matplotlib.pyplot as plt\n",
        "import random\n",
        "\n",
        "def initialize(M, N):\n",
        "    x = np.zeros(N)\n",
        "    for i in range(0, N):\n",
        "        x[i] = round(i * (M / N))\n",
        "    v = np.zeros(N)\n",
        "    d = np.zeros(N)\n",
        "    for i in range(0, N):\n",
        "        if (i + 1) >= x.size:\n",
        "            d[i] = abs(x[0] + (M - x[i]))\n",
        "        else:\n",
        "            d[i] = abs(x[i + 1] - x[i])\n",
        "    return x, v, d\n",
        "\n",
        "def NS_update(M, x, v, d, p, vmax, mode=1):\n",
        "# The mode==1 scenario is the original setting\n",
        "  if (mode==1):\n",
        "    prob1 = scst.bernoulli.rvs(p, size=1)\n",
        "    v = min(vmax, (v + 1))\n",
        "    v = min((d - 1), v)\n",
        "    if prob1[0] == 1:\n",
        "        v = max(0, (v - 1))\n",
        "    v = max(0,v)\n",
        "    # Problem 1(c)\n",
        "    x = (x + v) % M\n",
        "    return x, v\n",
        "  elif (mode==2):\n",
        "# The mode==2 scenario lets a car slow down before letting it go fast. Of course, the distance warning part always stays.  \n",
        "    prob1 = scst.bernoulli.rvs(p, size=1)\n",
        "    v = min(vmax, (v + 1))\n",
        "    v = min((d - 1), v)\n",
        "    if prob1[0] == 1:\n",
        "        v = max(0, (v - 1))\n",
        "    v = max(0,v)\n",
        "    # Problem 1(c)\n",
        "    x = (x + v) % M\n",
        "    return x, v\n",
        "  elif (mode==3):\n",
        "# The mode==3 scenario is when we want to slow down before adjusting for distance. \n",
        "    prob1 = scst.bernoulli.rvs(p, size=1)\n",
        "    v = min(vmax, (v + 1))\n",
        "    if prob1[0] == 1:\n",
        "        v = max(0, (v - 1))\n",
        "    v = min((d - 1), v)\n",
        "    v = max(0,v)\n",
        "    # Problem 1(c)\n",
        "    x = (x + v) % M\n",
        "    return x, v\n",
        "    \n",
        "\n",
        "def Nagel_Schreckenberg(x, v, d, p, M, N, vmax=35):\n",
        "    for i in range(0, N):\n",
        "        (x[i], v[i]) = NS_update(M, x[i], v[i], d[i], p, vmax,2)\n",
        "    for i in range(0, N):\n",
        "        j = i + 1\n",
        "        if j >= x.size:\n",
        "            j = 0\n",
        "        if abs(x[j] - x[i]) > 500:\n",
        "            d[i] = abs(x[j] + (M - x[i]))\n",
        "        else:\n",
        "            d[i] = abs(x[j] - x[i])\n",
        "    return x, v, d\n",
        "\n",
        "# The function uses for problem 1f, that adjust for the previous car distance, such that a car will only slow down if it has realistic danger to collide with the car before. \n",
        "\n",
        "def simulate(p=1/3, M=1000, N=50):\n",
        "    x, v, d = initialize(M, N)\n",
        "    for i in range(0, 2500):\n",
        "        x, v, d = Nagel_Schreckenberg(x, v, d, p, M, N)\n",
        "    graph = np.zeros((M, M))\n",
        "    for i in range(1000):\n",
        "        x, v, d = Nagel_Schreckenberg(x, v, d, p, M, N)\n",
        "        for j in range(N):\n",
        "            graph[i, round(x[j])] = 1\n",
        "    plt.matshow(graph)\n",
        "    plt.show()\n",
        "\n",
        "\n",
        "if __name__ == '__main__':\n",
        "  simulate()"
      ],
      "metadata": {
        "colab": {
          "base_uri": "https://localhost:8080/",
          "height": 275
        },
        "id": "jlS84ZJyGKTJ",
        "outputId": "8c953400-3de9-4eab-ff07-0448e2c2d73d"
      },
      "execution_count": 1,
      "outputs": [
        {
          "output_type": "display_data",
          "data": {
            "text/plain": [
              "<Figure size 288x288 with 1 Axes>"
            ],
            "image/png": "[encoded data removed]"
          },
          "metadata": {
            "needs_background": "light"
          }
        }
      ]
    },
    {
      "cell_type": "markdown",
      "source": [
        "## (e).\n",
        "\n",
        "Here is the result of removing the possibility of deceleration.  The plots become dashed lines. "
      ],
      "metadata": {
        "id": "X_tat_u839_c"
      }
    },
    {
      "cell_type": "code",
      "source": [
        "simulate(p=0)"
      ],
      "metadata": {
        "colab": {
          "base_uri": "https://localhost:8080/",
          "height": 275
        },
        "id": "PWPkrqaD30Xt",
        "outputId": "8e807c96-250e-4f7a-e894-f6b8ab6fabea"
      },
      "execution_count": null,
      "outputs": [
        {
          "output_type": "display_data",
          "data": {
            "text/plain": [
              "<Figure size 288x288 with 1 Axes>"
            ],
            "image/png": "[encoded data removed]"
          },
          "metadata": {
            "needs_background": "light"
          }
        }
      ]
    },
    {
      "cell_type": "code",
      "source": [],
      "metadata": {
        "id": "rcsl5pdU30Jh"
      },
      "execution_count": null,
      "outputs": []
    },
    {
      "cell_type": "markdown",
      "source": [
        "## (f). \n",
        "\n",
        "Here is the code that adopts Sarah's update. The graph looks pretty random. "
      ],
      "metadata": {
        "id": "ZktV3kBB3PQR"
      }
    },
    {
      "cell_type": "code",
      "source": [
        "def NSTL_update(M,vfront, x, v, d, p, vmax, mode):\n",
        "# The mode==1 scenario is the original setting\n",
        "  if (mode==1):\n",
        "    prob1 = scst.bernoulli.rvs(p, size=1)\n",
        "    v = min(vmax, (v + 1))\n",
        "    # Note that if the car in front travels vfront units, keeping a speed of (d + vfront -1) is safe. \n",
        "    v = min((d + vfront - 1), v)\n",
        "    if prob1[0] == 1:\n",
        "        v = max(0, (v - 1))\n",
        "    v = max(0,v)\n",
        "    # Problem 1(c)\n",
        "    x = (x + v) % M\n",
        "    return x, v\n",
        "  elif (mode==2):\n",
        "# The mode==2 scenario lets a car slow down before letting it go fast. Of course, the distance warning part always stays.  \n",
        "    prob1 = scst.bernoulli.rvs(p, size=1)\n",
        "    v = min(vmax, (v + 1))\n",
        "    v = min((d + vfront - 1), v)\n",
        "    if prob1[0] == 1:\n",
        "        v = max(0, (v - 1))\n",
        "    v = max(0,v)\n",
        "    # Problem 1(c)\n",
        "    x = (x + v) % M\n",
        "    return x, v\n",
        "  elif (mode==3):\n",
        "# The mode==3 scenario is when we want to slow down before adjusting for distance. \n",
        "    prob1 = scst.bernoulli.rvs(p, size=1)\n",
        "    v = min(vmax, (v + 1))\n",
        "    if prob1[0] == 1:\n",
        "        v = max(0, (v - 1))\n",
        "    v = min((d + vfront - 1), v)\n",
        "    v = max(0,v)\n",
        "    # Problem 1(c)\n",
        "    x = (x + v) % M\n",
        "    return x, v"
      ],
      "metadata": {
        "id": "Mcj0SnLeyyuT"
      },
      "execution_count": null,
      "outputs": []
    },
    {
      "cell_type": "code",
      "source": [
        "def Nagel_Schreckenberg_Tannert_Lerner(x, v, d, p, M, N, vmax=35):\n",
        "    vtem = v[0]\n",
        "    for i in range(N-1):\n",
        "        (x[i], v[i]) = NSTL_update(M, v[i+1],x[i], v[i], d[i], p, vmax,1)\n",
        "    (x[N-1], v[N-1]) = NSTL_update(M, vtem,x[N-1], v[N-1], d[N-1], p, vmax,1)  #Car 0 is right in front of Car N-1\n",
        "    for i in range(0, N):\n",
        "        j = i + 1\n",
        "        if j >= x.size:\n",
        "            j = 0\n",
        "        if abs(x[j] - x[i]) > 500:\n",
        "            d[i] = abs(x[j] + (M - x[i]))\n",
        "        else:\n",
        "            d[i] = abs(x[j] - x[i])\n",
        "    return x, v, d"
      ],
      "metadata": {
        "id": "YqZJXpegyvM5"
      },
      "execution_count": null,
      "outputs": []
    },
    {
      "cell_type": "code",
      "source": [
        "def simulate_TL(p=1/3, M=1000, N=50,Tpre=2500, T=1000):\n",
        "    x, v, d = initialize(M, N)\n",
        "    for i in range(Tpre):\n",
        "        x, v, d = Nagel_Schreckenberg_Tannert_Lerner(x, v, d, p, M, N)\n",
        "    graph = np.zeros((M, T))\n",
        "    for i in range(T):\n",
        "        x, v, d = Nagel_Schreckenberg_Tannert_Lerner(x, v, d, p, M, N)\n",
        "        for j in range(N):\n",
        "            graph[i, round(x[j])] = 1\n",
        "    plt.matshow(graph)\n",
        "    plt.show()\n",
        "\n",
        "\n",
        "if __name__ == '__main__':\n",
        "  simulate_TL()"
      ],
      "metadata": {
        "colab": {
          "base_uri": "https://localhost:8080/",
          "height": 275
        },
        "id": "t3GiMbZr0E-H",
        "outputId": "a9bc8ae3-218c-44b8-b07a-246e238b32fc"
      },
      "execution_count": null,
      "outputs": [
        {
          "output_type": "display_data",
          "data": {
            "text/plain": [
              "<Figure size 288x288 with 1 Axes>"
            ],
            "image/png": "[encoded data removed]"
          },
          "metadata": {
            "needs_background": "light"
          }
        }
      ]
    },
    {
      "cell_type": "markdown",
      "source": [
        "# Cutie Pie:\n",
        "\n",
        "\n",
        "\n",
        "In Monte Carlo simulations, random numbers are used to generate samples to estimate an integral or to simulate a system. In traditional pseudorandom number generators, the random numbers are generated independently and uniformly distributed. However, equidistributed sequences generate random numbers in a way that ensures they are uniformly distributed and have better dispersion over the entire sequence. One example of equidistributed sequences is\n",
        "\n",
        "$$a,2a,3a,\\cdots \\mod 1$$\n",
        "\n",
        " when $a$ is an irrational number. In the following example, the equidistributed sequence gets one more correct digit than the original sequence. "
      ],
      "metadata": {
        "id": "PXzZQSmT7YXz"
      }
    },
    {
      "cell_type": "markdown",
      "source": [],
      "metadata": {
        "id": "flgn_y63xYnd"
      }
    },
    {
      "cell_type": "code",
      "source": [
        "import random\n",
        "\n",
        "a = np.sqrt(5)\n",
        "b = np.sqrt(7)\n",
        "\n",
        "mode = 0\n",
        "\n",
        "def monte_carlo_pi(n):\n",
        "    inside = 0\n",
        "    for i in range(n):\n",
        "        x = i*a % 1\n",
        "        y = i*b % 1\n",
        "        if x**2 + y**2 <= 1:\n",
        "            inside += 1\n",
        "    return 4 * inside / n\n",
        "\n",
        "n = 1000000\n",
        "pi = monte_carlo_pi(n)\n",
        "print(\"Estimated value of pi after {} iterations by equidistributed sequence: {}\".format(n, pi))"
      ],
      "metadata": {
        "colab": {
          "base_uri": "https://localhost:8080/"
        },
        "id": "4Nci0GhgVrXH",
        "outputId": "76e5f742-fc53-4223-8ece-71dbe215749a"
      },
      "execution_count": null,
      "outputs": [
        {
          "output_type": "stream",
          "name": "stdout",
          "text": [
            "Estimated value of pi after 1000000 iterations: 3.141416\n"
          ]
        }
      ]
    },
    {
      "cell_type": "code",
      "source": [
        "import random\n",
        "\n",
        "a = np.sqrt(5)\n",
        "b = np.sqrt(7)\n",
        "\n",
        "mode = 0\n",
        "\n",
        "def monte_carlo_pi(n):\n",
        "    inside = 0\n",
        "    for i in range(n):\n",
        "        x = random.random()\n",
        "        y = random.random()\n",
        "        if x**2 + y**2 <= 1:\n",
        "            inside += 1\n",
        "    return 4 * inside / n\n",
        "\n",
        "n = 1000000\n",
        "pi = monte_carlo_pi(n)\n",
        "print(\"Estimated value of pi after {} iterations by equidistributed sequence: {}\".format(n, pi))"
      ],
      "metadata": {
        "colab": {
          "base_uri": "https://localhost:8080/"
        },
        "id": "hQhlOKLrCB_f",
        "outputId": "b92d3b4f-134f-4ecb-ad6a-a7896e6e1581"
      },
      "execution_count": null,
      "outputs": [
        {
          "output_type": "stream",
          "name": "stdout",
          "text": [
            "Estimated value of pi after 1000000 iterations by equidistributed sequence: 3.144216\n"
          ]
        }
      ]
    }
  ]
}